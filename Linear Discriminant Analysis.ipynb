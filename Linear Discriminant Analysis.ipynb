{
 "cells": [
  {
   "cell_type": "markdown",
   "metadata": {},
   "source": [
    "This is an implementation by Sebastian Raschka. As a practice exercise, I am trying to re-implement the algorithm. Link: https://sebastianraschka.com/Articles/2014_python_lda.html"
   ]
  },
  {
   "cell_type": "markdown",
   "metadata": {},
   "source": [
    "# Linear Discriminant Analysis"
   ]
  },
  {
   "cell_type": "markdown",
   "metadata": {},
   "source": [
    "Compute the dd-dimensional mean vectors for the different classes from the dataset.\n",
    "Compute the scatter matrices (in-between-class and within-class scatter matrix).\n",
    "Compute the eigenvectors (ee1,ee2,...,eedee1,ee2,...,eed) and corresponding eigenvalues (λλ1,λλ2,...,λλdλλ1,λλ2,...,λλd) for the scatter matrices.\n",
    "Sort the eigenvectors by decreasing eigenvalues and choose kk eigenvectors with the largest eigenvalues to form a d×kd×k dimensional matrix WWWW (where every column represents an eigenvector).\n",
    "Use this d×kd×k eigenvector matrix to transform the samples onto the new subspace. This can be summarized by the matrix multiplication: YY=XX×WWYY=XX×WW (where XXXX is a n×dn×d-dimensional matrix representing the nn samples, and yyyy are the transformed n×kn×k-dimensional samples in the new subspace)."
   ]
  },
  {
   "cell_type": "markdown",
   "metadata": {},
   "source": [
    "Dataset : http://archive.ics.uci.edu/ml/datasets/Wine"
   ]
  },
  {
   "cell_type": "code",
   "execution_count": 1,
   "metadata": {
    "collapsed": false
   },
   "outputs": [
    {
     "name": "stderr",
     "output_type": "stream",
     "text": [
      "/Users/mathurtx/tensorflow/lib/python2.7/site-packages/matplotlib/font_manager.py:273: UserWarning: Matplotlib is building the font cache using fc-list. This may take a moment.\n",
      "  warnings.warn('Matplotlib is building the font cache using fc-list. This may take a moment.')\n"
     ]
    }
   ],
   "source": [
    "import pandas as pd\n",
    "import matplotlib.pyplot as plt\n",
    "import numpy as np\n",
    "import math\n",
    "\n",
    "wineDf = pd.read_csv(\n",
    "    filepath_or_buffer='http://archive.ics.uci.edu/ml/machine-learning-databases/wine/wine.data',\n",
    "    header=None,\n",
    "    sep=','\n",
    ")\n"
   ]
  },
  {
   "cell_type": "code",
   "execution_count": 2,
   "metadata": {
    "collapsed": false
   },
   "outputs": [
    {
     "data": {
      "text/html": [
       "<div>\n",
       "<table border=\"1\" class=\"dataframe\">\n",
       "  <thead>\n",
       "    <tr style=\"text-align: right;\">\n",
       "      <th></th>\n",
       "      <th>Label</th>\n",
       "      <th>Alcohol</th>\n",
       "      <th>Malic_acid</th>\n",
       "      <th>Ash</th>\n",
       "      <th>Alcalinity_of_ash</th>\n",
       "      <th>Magnesium</th>\n",
       "      <th>Total_phenols</th>\n",
       "      <th>Flavanoids</th>\n",
       "      <th>Nonflavanoid_phenols</th>\n",
       "      <th>Proanthocyanins</th>\n",
       "      <th>Color_intensity</th>\n",
       "      <th>Hue</th>\n",
       "      <th>OD280/OD315</th>\n",
       "      <th>Proline</th>\n",
       "    </tr>\n",
       "  </thead>\n",
       "  <tbody>\n",
       "    <tr>\n",
       "      <th>0</th>\n",
       "      <td>1</td>\n",
       "      <td>14.23</td>\n",
       "      <td>1.71</td>\n",
       "      <td>2.43</td>\n",
       "      <td>15.6</td>\n",
       "      <td>127</td>\n",
       "      <td>2.80</td>\n",
       "      <td>3.06</td>\n",
       "      <td>0.28</td>\n",
       "      <td>2.29</td>\n",
       "      <td>5.64</td>\n",
       "      <td>1.04</td>\n",
       "      <td>3.92</td>\n",
       "      <td>1065</td>\n",
       "    </tr>\n",
       "    <tr>\n",
       "      <th>1</th>\n",
       "      <td>1</td>\n",
       "      <td>13.20</td>\n",
       "      <td>1.78</td>\n",
       "      <td>2.14</td>\n",
       "      <td>11.2</td>\n",
       "      <td>100</td>\n",
       "      <td>2.65</td>\n",
       "      <td>2.76</td>\n",
       "      <td>0.26</td>\n",
       "      <td>1.28</td>\n",
       "      <td>4.38</td>\n",
       "      <td>1.05</td>\n",
       "      <td>3.40</td>\n",
       "      <td>1050</td>\n",
       "    </tr>\n",
       "    <tr>\n",
       "      <th>2</th>\n",
       "      <td>1</td>\n",
       "      <td>13.16</td>\n",
       "      <td>2.36</td>\n",
       "      <td>2.67</td>\n",
       "      <td>18.6</td>\n",
       "      <td>101</td>\n",
       "      <td>2.80</td>\n",
       "      <td>3.24</td>\n",
       "      <td>0.30</td>\n",
       "      <td>2.81</td>\n",
       "      <td>5.68</td>\n",
       "      <td>1.03</td>\n",
       "      <td>3.17</td>\n",
       "      <td>1185</td>\n",
       "    </tr>\n",
       "    <tr>\n",
       "      <th>3</th>\n",
       "      <td>1</td>\n",
       "      <td>14.37</td>\n",
       "      <td>1.95</td>\n",
       "      <td>2.50</td>\n",
       "      <td>16.8</td>\n",
       "      <td>113</td>\n",
       "      <td>3.85</td>\n",
       "      <td>3.49</td>\n",
       "      <td>0.24</td>\n",
       "      <td>2.18</td>\n",
       "      <td>7.80</td>\n",
       "      <td>0.86</td>\n",
       "      <td>3.45</td>\n",
       "      <td>1480</td>\n",
       "    </tr>\n",
       "    <tr>\n",
       "      <th>4</th>\n",
       "      <td>1</td>\n",
       "      <td>13.24</td>\n",
       "      <td>2.59</td>\n",
       "      <td>2.87</td>\n",
       "      <td>21.0</td>\n",
       "      <td>118</td>\n",
       "      <td>2.80</td>\n",
       "      <td>2.69</td>\n",
       "      <td>0.39</td>\n",
       "      <td>1.82</td>\n",
       "      <td>4.32</td>\n",
       "      <td>1.04</td>\n",
       "      <td>2.93</td>\n",
       "      <td>735</td>\n",
       "    </tr>\n",
       "  </tbody>\n",
       "</table>\n",
       "</div>"
      ],
      "text/plain": [
       "   Label  Alcohol  Malic_acid   Ash  Alcalinity_of_ash  Magnesium  \\\n",
       "0      1    14.23        1.71  2.43               15.6        127   \n",
       "1      1    13.20        1.78  2.14               11.2        100   \n",
       "2      1    13.16        2.36  2.67               18.6        101   \n",
       "3      1    14.37        1.95  2.50               16.8        113   \n",
       "4      1    13.24        2.59  2.87               21.0        118   \n",
       "\n",
       "   Total_phenols  Flavanoids  Nonflavanoid_phenols  Proanthocyanins  \\\n",
       "0           2.80        3.06                  0.28             2.29   \n",
       "1           2.65        2.76                  0.26             1.28   \n",
       "2           2.80        3.24                  0.30             2.81   \n",
       "3           3.85        3.49                  0.24             2.18   \n",
       "4           2.80        2.69                  0.39             1.82   \n",
       "\n",
       "   Color_intensity   Hue  OD280/OD315  Proline  \n",
       "0             5.64  1.04         3.92     1065  \n",
       "1             4.38  1.05         3.40     1050  \n",
       "2             5.68  1.03         3.17     1185  \n",
       "3             7.80  0.86         3.45     1480  \n",
       "4             4.32  1.04         2.93      735  "
      ]
     },
     "execution_count": 2,
     "metadata": {},
     "output_type": "execute_result"
    }
   ],
   "source": [
    "wineDf.columns = ['Label','Alcohol','Malic_acid','Ash','Alcalinity_of_ash','Magnesium','Total_phenols','Flavanoids','Nonflavanoid_phenols'\n",
    "                  ,'Proanthocyanins','Color_intensity','Hue','OD280/OD315','Proline']\n",
    "wineDf.head(5)"
   ]
  },
  {
   "cell_type": "code",
   "execution_count": 3,
   "metadata": {
    "collapsed": true
   },
   "outputs": [],
   "source": [
    "#Step 1: Computing the d-dimensional mean vectors"
   ]
  },
  {
   "cell_type": "code",
   "execution_count": 4,
   "metadata": {
    "collapsed": true
   },
   "outputs": [],
   "source": [
    "X = wineDf.ix[:,1:14].values\n",
    "y = wineDf.ix[:,0].values"
   ]
  },
  {
   "cell_type": "code",
   "execution_count": 5,
   "metadata": {
    "collapsed": false
   },
   "outputs": [
    {
     "name": "stdout",
     "output_type": "stream",
     "text": [
      "Mean Vector class 1: [  1.3745e+01   2.0107e+00   2.4556e+00   1.7037e+01   1.0634e+02\n",
      "   2.8402e+00   2.9824e+00   2.9000e-01   1.8993e+00   5.5283e+00\n",
      "   1.0620e+00   3.1578e+00   1.1157e+03]\n",
      "\n",
      "Mean Vector class 2: [  1.2279e+01   1.9327e+00   2.2448e+00   2.0238e+01   9.4549e+01\n",
      "   2.2589e+00   2.0808e+00   3.6366e-01   1.6303e+00   3.0866e+00\n",
      "   1.0563e+00   2.7854e+00   5.1951e+02]\n",
      "\n",
      "Mean Vector class 3: [  1.3154e+01   3.3338e+00   2.4371e+00   2.1417e+01   9.9312e+01\n",
      "   1.6788e+00   7.8146e-01   4.4750e-01   1.1535e+00   7.3962e+00\n",
      "   6.8271e-01   1.6835e+00   6.2990e+02]\n",
      "\n"
     ]
    }
   ],
   "source": [
    "np.set_printoptions(precision=4)\n",
    "mean_vectors_class = []\n",
    "for label in range(1,4):\n",
    "    mean_vectors_class.append(np.mean(X[y==label], axis=0))\n",
    "    print('Mean Vector class %s: %s\\n' %(label, mean_vectors_class[label-1])) \n",
    "    "
   ]
  },
  {
   "cell_type": "code",
   "execution_count": 6,
   "metadata": {
    "collapsed": true
   },
   "outputs": [],
   "source": [
    "#Step 2: Computing the Scatter Matrices"
   ]
  },
  {
   "cell_type": "code",
   "execution_count": 7,
   "metadata": {
    "collapsed": false
   },
   "outputs": [
    {
     "name": "stdout",
     "output_type": "stream",
     "text": [
      "within-class Scatter Matrix:\n",
      "[[  4.5859e+01   1.4303e+00  -2.3291e+00  -1.7013e+01   3.1383e+00\n",
      "    4.7422e+00   3.9605e+00  -1.7072e-01   2.9350e+00   4.3130e+01\n",
      "    1.3687e-01  -8.7244e-01   2.1415e+03]\n",
      " [  1.4303e+00   1.5532e+02   3.7434e+00   7.2582e+01  -1.5563e+02\n",
      "   -2.5349e+00  -1.6466e+00   1.7807e+00   3.0105e+00  -4.5273e+01\n",
      "   -7.3732e+00   8.1426e+00  -5.7852e+03]\n",
      " [ -2.3291e+00   3.7434e+00   1.1563e+01   8.4728e+01   1.2067e+02\n",
      "    2.8298e+00   5.2449e+00   1.2286e+00   4.6912e-01   1.7140e+00\n",
      "    4.0639e-01   1.9095e+00  -8.7672e+01]\n",
      " [ -1.7013e+01   7.2582e+01   8.4728e+01   1.4012e+03   5.6662e+02\n",
      "    1.9008e+01   4.3123e+01   8.2101e+00   1.6227e+01  -1.7814e+01\n",
      "   -1.7204e+00   3.9486e+01  -5.7458e+03]\n",
      " [  3.1383e+00  -1.5563e+02   1.2067e+02   5.6662e+02   3.1615e+04\n",
      "    1.0100e+02   1.1670e+02  -5.0235e+01   2.2757e+02   3.1017e+02\n",
      "    2.2078e+01  -4.9198e+01   8.3344e+04]\n",
      " [  4.7422e+00  -2.5349e+00   2.8298e+00   1.9008e+01   1.0100e+02\n",
      "    3.3472e+01   2.8229e+01  -1.3538e+00   1.6073e+01   3.4822e+01\n",
      "   -2.5642e-01   1.0476e+01   1.4692e+03]\n",
      " [  3.9605e+00  -1.6466e+00   5.2449e+00   4.3123e+01   1.1670e+02\n",
      "    2.8229e+01   4.8074e+01  -2.6717e+00   2.2364e+01   5.0169e+01\n",
      "   -7.3611e-01   1.1876e+01   5.9950e+02]\n",
      " [ -1.7072e-01   1.7807e+00   1.2286e+00   8.2101e+00  -5.0235e+01\n",
      "   -1.3538e+00  -2.6717e+00   2.0845e+00  -1.5121e+00  -2.6437e-01\n",
      "    2.3775e-01  -1.7626e+00  -8.6304e+01]\n",
      " [  2.9350e+00   3.0105e+00   4.6912e-01   1.6227e+01   2.2757e+02\n",
      "    1.6073e+01   2.2364e+01  -1.5121e+00   4.3080e+01   4.0111e+01\n",
      "   -1.1035e+00   7.4273e+00   2.0094e+03]\n",
      " [  4.3130e+01  -4.5273e+01   1.7140e+00  -1.7814e+01   3.1017e+02\n",
      "    3.4822e+01   5.0169e+01  -2.6437e-01   4.0111e+01   3.9986e+02\n",
      "   -7.1743e+00  -1.1603e+01   1.1916e+04]\n",
      " [  1.3687e-01  -7.3732e+00   4.0639e-01  -1.7204e+00   2.2078e+01\n",
      "   -2.5642e-01  -7.3611e-01   2.3775e-01  -1.1035e+00  -7.1743e+00\n",
      "    4.2853e+00  -5.8574e-01   7.8593e+02]\n",
      " [ -8.7244e-01   8.1426e+00   1.9095e+00   3.9486e+01  -4.9198e+01\n",
      "    1.0476e+01   1.1876e+01  -1.7626e+00   7.4273e+00  -1.1603e+01\n",
      "   -5.8574e-01   2.8136e+01  -1.9150e+03]\n",
      " [  2.1415e+03  -5.7852e+03  -8.7672e+01  -5.7458e+03   8.3344e+04\n",
      "    1.4692e+03   5.9950e+02  -8.6304e+01   2.0094e+03   1.1916e+04\n",
      "    7.8593e+02  -1.9150e+03   5.1988e+06]]\n"
     ]
    }
   ],
   "source": [
    "Scatter_Matrix = np.zeros((X.shape[1], X.shape[1]))\n",
    "for label, mv in zip(range(1,4), mean_vectors_class):\n",
    "    class_scatter_matrix = np.zeros((X.shape[1], X.shape[1]))\n",
    "    for row in X[y == label]:\n",
    "        row, mv = row.reshape(X.shape[1],1), mv.reshape(X.shape[1],1)\n",
    "        class_scatter_matrix+= (row - mv).dot((row - mv).T)\n",
    "    Scatter_Matrix += class_scatter_matrix\n",
    "print 'within-class Scatter Matrix:\\n', Scatter_Matrix"
   ]
  },
  {
   "cell_type": "code",
   "execution_count": 8,
   "metadata": {
    "collapsed": false
   },
   "outputs": [
    {
     "name": "stdout",
     "output_type": "stream",
     "text": [
      "between-class Scatter Matrix: \n",
      "[[  7.0795e+01   1.3723e+01   1.0668e+01  -1.3186e+02   5.5262e+02\n",
      "    2.1257e+01   3.0029e+01  -2.6178e+00   8.3076e+00   1.3888e+02\n",
      "   -2.4933e+00   8.2530e+00   2.6987e+04]\n",
      " [  1.3723e+01   6.5578e+01   5.1556e+00   1.1793e+02   1.5062e+00\n",
      "   -3.8943e+01  -7.9531e+01   5.4292e+00  -2.7994e+01   1.5941e+02\n",
      "   -1.7995e+01  -5.9906e+01  -6.1709e+03]\n",
      " [  1.0668e+01   5.1556e+00   1.7592e+00  -1.2829e+01   7.8095e+01\n",
      "    1.0900e+00   3.3671e-01  -1.0316e-01  -2.0087e-01   2.7430e+01\n",
      "   -1.2351e+00  -1.7747e+00   3.5073e+03]\n",
      " [ -1.3186e+02   1.1793e+02  -1.2829e+01   5.7283e+02  -1.2702e+03\n",
      "   -1.3780e+02  -2.5058e+02   1.8415e+01  -8.2987e+01   4.3483e+01\n",
      "   -3.5293e+01  -1.5564e+02  -7.6268e+04]\n",
      " [  5.5262e+02   1.5062e+00   7.8095e+01  -1.2702e+03   4.4910e+03\n",
      "    2.3822e+02   3.7768e+02  -3.0399e+01   1.1454e+02   8.6166e+02\n",
      "    9.9330e+00   1.6767e+02   2.2980e+05]\n",
      " [  2.1257e+01  -3.8943e+01   1.0900e+00  -1.3780e+02   2.3822e+02\n",
      "    3.5857e+01   6.7435e+01  -4.8492e+00   2.2756e+01  -4.8981e+01\n",
      "    1.1237e+01   4.4575e+01   1.5907e+04]\n",
      " [  3.0029e+01  -7.9531e+01   3.3671e-01  -2.5058e+02   3.7768e+02\n",
      "    6.7435e+01   1.2852e+02  -9.1637e+00   4.3683e+01  -1.2082e+02\n",
      "    2.2699e+01   8.6937e+01   2.6915e+04]\n",
      " [ -2.6178e+00   5.4292e+00  -1.0316e-01   1.8415e+01  -3.0399e+01\n",
      "   -4.8492e+00  -9.1637e+00   6.5694e-01  -3.1004e+00   7.3657e+00\n",
      "   -1.5602e+00  -6.1085e+00  -2.0737e+03]\n",
      " [  8.3076e+00  -2.7994e+01  -2.0087e-01  -8.2987e+01   1.1454e+02\n",
      "    2.2756e+01   4.3683e+01  -3.1004e+00   1.4904e+01  -4.6041e+01\n",
      "    7.9472e+00   2.9908e+01   8.5317e+03]\n",
      " [  1.3888e+02   1.5941e+02   2.7430e+01   4.3483e+01   8.6166e+02\n",
      "   -4.8981e+01  -1.2082e+02   7.3657e+00  -4.6041e+01   5.5142e+02\n",
      "   -4.1767e+01  -1.1333e+02   2.8929e+04]\n",
      " [ -2.4933e+00  -1.7995e+01  -1.2351e+00  -3.5293e+01   9.9330e+00\n",
      "    1.1237e+01   2.2699e+01  -1.5602e+00   7.9472e+00  -4.1767e+01\n",
      "    4.9620e+00   1.6828e+01   2.2231e+03]\n",
      " [  8.2530e+00  -5.9906e+01  -1.7747e+00  -1.5564e+02   1.6767e+02\n",
      "    4.4575e+01   8.6937e+01  -6.1085e+00   2.9908e+01  -1.1333e+02\n",
      "    1.6828e+01   6.1087e+01   1.4292e+04]\n",
      " [  2.6987e+04  -6.1709e+03   3.5073e+03  -7.6268e+04   2.2980e+05\n",
      "    1.5907e+04   2.6915e+04  -2.0737e+03   8.5317e+03   2.8929e+04\n",
      "    2.2231e+03   1.4292e+04   1.2354e+07]]\n"
     ]
    }
   ],
   "source": [
    "#Between-class scatter matrix SB\n",
    "overall_mean = np.mean(X, axis=0)\n",
    "\n",
    "S_B = np.zeros((X.shape[1], X.shape[1]))\n",
    "for i,mean_vec in enumerate(mean_vectors_class):  \n",
    "    n = X[y==i+1,:].shape[0]\n",
    "    mean_vec = mean_vec.reshape(X.shape[1],1) # make column vector\n",
    "    overall_mean = overall_mean.reshape(X.shape[1],1) # make column vector\n",
    "    S_B += n * (mean_vec - overall_mean).dot((mean_vec - overall_mean).T)\n",
    "\n",
    "print 'between-class Scatter Matrix: \\n', S_B"
   ]
  },
  {
   "cell_type": "code",
   "execution_count": 9,
   "metadata": {
    "collapsed": false
   },
   "outputs": [],
   "source": [
    "eigen_values, eigen_vector = np.linalg.eig(np.linalg.inv(Scatter_Matrix).dot(S_B))\n",
    "eigen_pairs = [(np.abs(eigen_values[i]), eigen_vector[:,i]) for i in range(len(eigen_values))]"
   ]
  },
  {
   "cell_type": "code",
   "execution_count": 10,
   "metadata": {
    "collapsed": true
   },
   "outputs": [],
   "source": [
    "eigen_pairs = sorted(eigen_pairs, key = lambda x: -x[0])"
   ]
  },
  {
   "cell_type": "code",
   "execution_count": 11,
   "metadata": {
    "collapsed": false
   },
   "outputs": [
    {
     "name": "stdout",
     "output_type": "stream",
     "text": [
      "Eigenvalues in decreasing order:\n",
      "\n",
      "9.08173943504\n",
      "4.12846904564\n",
      "9.64715644323e-16\n",
      "8.881784197e-16\n",
      "7.45341003706e-16\n",
      "7.45341003706e-16\n",
      "6.91496825786e-16\n",
      "6.91496825786e-16\n",
      "3.2177919992e-16\n",
      "2.83497860587e-16\n",
      "2.83497860587e-16\n",
      "1.46712361361e-16\n",
      "3.26463714014e-17\n"
     ]
    }
   ],
   "source": [
    "print 'Eigenvalues in decreasing order:\\n'\n",
    "for i in eigen_pairs:\n",
    "    print(i[0])"
   ]
  },
  {
   "cell_type": "code",
   "execution_count": 12,
   "metadata": {
    "collapsed": true
   },
   "outputs": [],
   "source": [
    "eigen_total = sum(eigen_values)\n",
    "var_exp = [(i / eigen_total)*100 for i in sorted(eigen_values, reverse=True)]\n",
    "cum_var_exp = np.cumsum(var_exp)"
   ]
  },
  {
   "cell_type": "code",
   "execution_count": 13,
   "metadata": {
    "collapsed": false
   },
   "outputs": [
    {
     "name": "stderr",
     "output_type": "stream",
     "text": [
      "/Users/mathurtx/tensorflow/lib/python2.7/site-packages/matplotlib/patches.py:643: ComplexWarning: Casting complex values to real discards the imaginary part\n",
      "  self._height = float(height)\n",
      "/Users/mathurtx/tensorflow/lib/python2.7/site-packages/matplotlib/patches.py:641: ComplexWarning: Casting complex values to real discards the imaginary part\n",
      "  self._y = float(xy[1])\n",
      "/Users/mathurtx/tensorflow/lib/python2.7/site-packages/numpy/core/numeric.py:482: ComplexWarning: Casting complex values to real discards the imaginary part\n",
      "  return array(a, dtype, copy=False, order=order)\n"
     ]
    },
    {
     "data": {
      "image/png": "[encoded data removed]",
      "text/plain": [
       "<matplotlib.figure.Figure at 0x106671310>"
      ]
     },
     "metadata": {},
     "output_type": "display_data"
    }
   ],
   "source": [
    "with plt.style.context('seaborn-whitegrid'):\n",
    "    plt.figure(figsize=(6, 4))\n",
    "\n",
    "    plt.bar(range(len(eigen_values)), var_exp, alpha=0.5, align='center')\n",
    "    plt.step(range(len(eigen_values)), cum_var_exp, where='mid',\n",
    "             label='cumulative explained variance')\n",
    "    plt.ylabel('Explained variance ratio')\n",
    "    plt.xlabel('Principal components')\n",
    "    plt.legend(loc='best')\n",
    "    plt.tight_layout()\n",
    "    plt.show()"
   ]
  },
  {
   "cell_type": "code",
   "execution_count": 14,
   "metadata": {
    "collapsed": false
   },
   "outputs": [
    {
     "name": "stdout",
     "output_type": "stream",
     "text": [
      "Variance explained:\n",
      "\n",
      "eigenvalue 1: 68.75%\n",
      "eigenvalue 2: 31.25%\n",
      "eigenvalue 3: 0.00%\n",
      "eigenvalue 4: 0.00%\n",
      "eigenvalue 5: 0.00%\n",
      "eigenvalue 6: 0.00%\n",
      "eigenvalue 7: 0.00%\n",
      "eigenvalue 8: 0.00%\n",
      "eigenvalue 9: 0.00%\n",
      "eigenvalue 10: 0.00%\n",
      "eigenvalue 11: 0.00%\n",
      "eigenvalue 12: 0.00%\n",
      "eigenvalue 13: 0.00%\n"
     ]
    }
   ],
   "source": [
    "print('Variance explained:\\n')\n",
    "eigv_sum = sum(eigen_values)\n",
    "for i,j in enumerate(eigen_pairs):\n",
    "    print('eigenvalue {0:}: {1:.2%}'.format(i+1, (j[0]/eigv_sum).real))"
   ]
  },
  {
   "cell_type": "code",
   "execution_count": 15,
   "metadata": {
    "collapsed": false
   },
   "outputs": [
    {
     "name": "stdout",
     "output_type": "stream",
     "text": [
      "('Matrix W:\\n', array([[ -1.4368e-01,  -2.5445e-01],\n",
      "       [  5.8860e-02,  -8.9130e-02],\n",
      "       [ -1.3146e-01,  -6.8467e-01],\n",
      "       [  5.5136e-02,   4.2724e-02],\n",
      "       [ -7.7060e-04,   1.3506e-04],\n",
      "       [  2.2014e-01,   9.4018e-03],\n",
      "       [ -5.9168e-01,   1.4360e-01],\n",
      "       [ -5.3278e-01,   4.7602e-01],\n",
      "       [  4.7761e-02,   8.9628e-02],\n",
      "       [  1.2646e-01,  -7.3909e-02],\n",
      "       [ -2.9137e-01,   4.4236e-01],\n",
      "       [ -4.1230e-01,  -1.4939e-02],\n",
      "       [ -9.5856e-04,  -8.3269e-04]]))\n"
     ]
    }
   ],
   "source": [
    "W = np.hstack((eigen_pairs[0][1].reshape(X.shape[1],1), eigen_pairs[1][1].reshape(X.shape[1],1)))\n",
    "print('Matrix W:\\n', W.real)"
   ]
  },
  {
   "cell_type": "code",
   "execution_count": 16,
   "metadata": {
    "collapsed": true
   },
   "outputs": [],
   "source": [
    "#Transformed Matrix\n",
    "Y = X.dot(W)"
   ]
  },
  {
   "cell_type": "code",
   "execution_count": 18,
   "metadata": {
    "collapsed": false
   },
   "outputs": [
    {
     "data": {
      "image/png": "[encoded data removed]",
      "text/plain": [
       "<matplotlib.figure.Figure at 0x1067f6310>"
      ]
     },
     "metadata": {},
     "output_type": "display_data"
    }
   ],
   "source": [
    "from matplotlib import pyplot as plt\n",
    "\n",
    "def plot_step_lda():\n",
    "\n",
    "    ax = plt.subplot(111)\n",
    "    for label,marker,color in zip(\n",
    "        range(1,4),('^', 's', 'o'),('blue', 'red', 'green')):\n",
    "\n",
    "        plt.scatter(x=Y[:,0].real[y == label],\n",
    "                y=Y[:,1].real[y == label],\n",
    "                marker=marker,\n",
    "                color=color,\n",
    "                alpha=0.5\n",
    "                )\n",
    "\n",
    "    plt.xlabel('LD1')\n",
    "    plt.ylabel('LD2')\n",
    "\n",
    "    leg = plt.legend(loc='upper right', fancybox=True)\n",
    "    plt.title('LDA: Wine projection onto the first 2 linear discriminants')\n",
    "\n",
    "    # hide axis ticks\n",
    "    plt.tick_params(axis=\"both\", which=\"both\", bottom=\"off\", top=\"off\",  \n",
    "            labelbottom=\"on\", left=\"off\", right=\"off\", labelleft=\"on\")\n",
    "\n",
    "    # remove axis spines\n",
    "    ax.spines[\"top\"].set_visible(False)  \n",
    "    ax.spines[\"right\"].set_visible(False)\n",
    "    ax.spines[\"bottom\"].set_visible(False)\n",
    "    ax.spines[\"left\"].set_visible(False)    \n",
    "\n",
    "    plt.grid()\n",
    "    plt.tight_layout\n",
    "    plt.show()\n",
    "\n",
    "plot_step_lda()"
   ]
  },
  {
   "cell_type": "code",
   "execution_count": null,
   "metadata": {
    "collapsed": true
   },
   "outputs": [],
   "source": []
  }
 ],
 "metadata": {
  "kernelspec": {
   "display_name": "Python 2",
   "language": "python",
   "name": "python2"
  },
  "language_info": {
   "codemirror_mode": {
    "name": "ipython",
    "version": 2
   },
   "file_extension": ".py",
   "mimetype": "text/x-python",
   "name": "python",
   "nbconvert_exporter": "python",
   "pygments_lexer": "ipython2",
   "version": "2.7.10"
  }
 },
 "nbformat": 4,
 "nbformat_minor": 1
}
