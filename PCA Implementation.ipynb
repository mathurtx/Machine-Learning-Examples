{
 "cells": [
  {
   "cell_type": "markdown",
   "metadata": {},
   "source": [
    "This is an implementation by Sebastian Raschka.\n",
    "As a practice exercise, I am trying to re-implement the algorithm.\n",
    "Link: https://sebastianraschka.com/Articles/2015_pca_in_3_steps.html"
   ]
  },
  {
   "cell_type": "markdown",
   "metadata": {},
   "source": [
    "# Principal Component Analysis"
   ]
  },
  {
   "cell_type": "markdown",
   "metadata": {},
   "source": [
    "Standardize the data.\n",
    "Obtain the Eigenvectors and Eigenvalues from the covariance matrix or correlation matrix, or perform Singular Vector Decomposition.\n",
    "Sort eigenvalues in descending order and choose the kk eigenvectors that correspond to the kk largest eigenvalues where kk is the number of dimensions of the new feature subspace (k≤dk≤d).\n",
    "Construct the projection matrix WW from the selected kk eigenvectors.\n",
    "Transform the original dataset XX via WW to obtain a kk-dimensional feature subspace YY."
   ]
  },
  {
   "cell_type": "markdown",
   "metadata": {},
   "source": [
    "Dataset : http://archive.ics.uci.edu/ml/datasets/Wine"
   ]
  },
  {
   "cell_type": "code",
   "execution_count": 1,
   "metadata": {
    "collapsed": false
   },
   "outputs": [],
   "source": [
    "import pandas as pd\n",
    "wineDf = pd.read_csv(\n",
    "    filepath_or_buffer='http://archive.ics.uci.edu/ml/machine-learning-databases/wine/wine.data',\n",
    "    header=None,\n",
    "    sep=','\n",
    ")\n"
   ]
  },
  {
   "cell_type": "code",
   "execution_count": 2,
   "metadata": {
    "collapsed": false
   },
   "outputs": [
    {
     "data": {
      "text/html": [
       "<div>\n",
       "<table border=\"1\" class=\"dataframe\">\n",
       "  <thead>\n",
       "    <tr style=\"text-align: right;\">\n",
       "      <th></th>\n",
       "      <th>Label</th>\n",
       "      <th>Alcohol</th>\n",
       "      <th>Malic_acid</th>\n",
       "      <th>Ash</th>\n",
       "      <th>Alcalinity_of_ash</th>\n",
       "      <th>Magnesium</th>\n",
       "      <th>Total_phenols</th>\n",
       "      <th>Flavanoids</th>\n",
       "      <th>Nonflavanoid_phenols</th>\n",
       "      <th>Proanthocyanins</th>\n",
       "      <th>Color_intensity</th>\n",
       "      <th>Hue</th>\n",
       "      <th>OD280/OD315</th>\n",
       "      <th>Proline</th>\n",
       "    </tr>\n",
       "  </thead>\n",
       "  <tbody>\n",
       "    <tr>\n",
       "      <th>0</th>\n",
       "      <td>1</td>\n",
       "      <td>14.23</td>\n",
       "      <td>1.71</td>\n",
       "      <td>2.43</td>\n",
       "      <td>15.6</td>\n",
       "      <td>127</td>\n",
       "      <td>2.80</td>\n",
       "      <td>3.06</td>\n",
       "      <td>0.28</td>\n",
       "      <td>2.29</td>\n",
       "      <td>5.64</td>\n",
       "      <td>1.04</td>\n",
       "      <td>3.92</td>\n",
       "      <td>1065</td>\n",
       "    </tr>\n",
       "    <tr>\n",
       "      <th>1</th>\n",
       "      <td>1</td>\n",
       "      <td>13.20</td>\n",
       "      <td>1.78</td>\n",
       "      <td>2.14</td>\n",
       "      <td>11.2</td>\n",
       "      <td>100</td>\n",
       "      <td>2.65</td>\n",
       "      <td>2.76</td>\n",
       "      <td>0.26</td>\n",
       "      <td>1.28</td>\n",
       "      <td>4.38</td>\n",
       "      <td>1.05</td>\n",
       "      <td>3.40</td>\n",
       "      <td>1050</td>\n",
       "    </tr>\n",
       "    <tr>\n",
       "      <th>2</th>\n",
       "      <td>1</td>\n",
       "      <td>13.16</td>\n",
       "      <td>2.36</td>\n",
       "      <td>2.67</td>\n",
       "      <td>18.6</td>\n",
       "      <td>101</td>\n",
       "      <td>2.80</td>\n",
       "      <td>3.24</td>\n",
       "      <td>0.30</td>\n",
       "      <td>2.81</td>\n",
       "      <td>5.68</td>\n",
       "      <td>1.03</td>\n",
       "      <td>3.17</td>\n",
       "      <td>1185</td>\n",
       "    </tr>\n",
       "    <tr>\n",
       "      <th>3</th>\n",
       "      <td>1</td>\n",
       "      <td>14.37</td>\n",
       "      <td>1.95</td>\n",
       "      <td>2.50</td>\n",
       "      <td>16.8</td>\n",
       "      <td>113</td>\n",
       "      <td>3.85</td>\n",
       "      <td>3.49</td>\n",
       "      <td>0.24</td>\n",
       "      <td>2.18</td>\n",
       "      <td>7.80</td>\n",
       "      <td>0.86</td>\n",
       "      <td>3.45</td>\n",
       "      <td>1480</td>\n",
       "    </tr>\n",
       "    <tr>\n",
       "      <th>4</th>\n",
       "      <td>1</td>\n",
       "      <td>13.24</td>\n",
       "      <td>2.59</td>\n",
       "      <td>2.87</td>\n",
       "      <td>21.0</td>\n",
       "      <td>118</td>\n",
       "      <td>2.80</td>\n",
       "      <td>2.69</td>\n",
       "      <td>0.39</td>\n",
       "      <td>1.82</td>\n",
       "      <td>4.32</td>\n",
       "      <td>1.04</td>\n",
       "      <td>2.93</td>\n",
       "      <td>735</td>\n",
       "    </tr>\n",
       "  </tbody>\n",
       "</table>\n",
       "</div>"
      ],
      "text/plain": [
       "   Label  Alcohol  Malic_acid   Ash  Alcalinity_of_ash  Magnesium  \\\n",
       "0      1    14.23        1.71  2.43               15.6        127   \n",
       "1      1    13.20        1.78  2.14               11.2        100   \n",
       "2      1    13.16        2.36  2.67               18.6        101   \n",
       "3      1    14.37        1.95  2.50               16.8        113   \n",
       "4      1    13.24        2.59  2.87               21.0        118   \n",
       "\n",
       "   Total_phenols  Flavanoids  Nonflavanoid_phenols  Proanthocyanins  \\\n",
       "0           2.80        3.06                  0.28             2.29   \n",
       "1           2.65        2.76                  0.26             1.28   \n",
       "2           2.80        3.24                  0.30             2.81   \n",
       "3           3.85        3.49                  0.24             2.18   \n",
       "4           2.80        2.69                  0.39             1.82   \n",
       "\n",
       "   Color_intensity   Hue  OD280/OD315  Proline  \n",
       "0             5.64  1.04         3.92     1065  \n",
       "1             4.38  1.05         3.40     1050  \n",
       "2             5.68  1.03         3.17     1185  \n",
       "3             7.80  0.86         3.45     1480  \n",
       "4             4.32  1.04         2.93      735  "
      ]
     },
     "execution_count": 2,
     "metadata": {},
     "output_type": "execute_result"
    }
   ],
   "source": [
    "wineDf.columns = ['Label','Alcohol','Malic_acid','Ash','Alcalinity_of_ash','Magnesium','Total_phenols','Flavanoids','Nonflavanoid_phenols'\n",
    "                  ,'Proanthocyanins','Color_intensity','Hue','OD280/OD315','Proline']\n",
    "wineDf.head(5)"
   ]
  },
  {
   "cell_type": "code",
   "execution_count": 3,
   "metadata": {
    "collapsed": false
   },
   "outputs": [],
   "source": [
    "X = wineDf.ix[:,1:14].values\n",
    "y = wineDf.ix[:,0].values"
   ]
  },
  {
   "cell_type": "code",
   "execution_count": 4,
   "metadata": {
    "collapsed": false
   },
   "outputs": [
    {
     "name": "stderr",
     "output_type": "stream",
     "text": [
      "/Users/mathurtx/tensorflow/lib/python2.7/site-packages/matplotlib/font_manager.py:273: UserWarning: Matplotlib is building the font cache using fc-list. This may take a moment.\n",
      "  warnings.warn('Matplotlib is building the font cache using fc-list. This may take a moment.')\n"
     ]
    }
   ],
   "source": [
    "import matplotlib.pyplot as plt\n",
    "import numpy as np\n",
    "import math"
   ]
  },
  {
   "cell_type": "code",
   "execution_count": 5,
   "metadata": {
    "collapsed": true
   },
   "outputs": [],
   "source": [
    "from sklearn.preprocessing import StandardScaler\n",
    "X_std = StandardScaler().fit_transform(X)"
   ]
  },
  {
   "cell_type": "code",
   "execution_count": 6,
   "metadata": {
    "collapsed": true
   },
   "outputs": [],
   "source": [
    "mean_vector = np.mean(X_std, axis=0)\n",
    "#covariance = (X - mean(X))/number of rows\n",
    "covariance_matrix = (X_std - mean_vector).T.dot(X_std - mean_vector)/(X_std.shape[0]-1)"
   ]
  },
  {
   "cell_type": "code",
   "execution_count": 7,
   "metadata": {
    "collapsed": true
   },
   "outputs": [],
   "source": [
    "numpy_covariance_matrix = np.cov(X_std.T)"
   ]
  },
  {
   "cell_type": "code",
   "execution_count": 8,
   "metadata": {
    "collapsed": false
   },
   "outputs": [
    {
     "name": "stdout",
     "output_type": "stream",
     "text": [
      "Numpy covariance matrix :\n",
      " %s [[ 1.00564972  0.09493026  0.21273976 -0.31198788  0.27232816  0.29073446\n",
      "   0.23815287 -0.15681042  0.13747022  0.549451   -0.07215255  0.07275191\n",
      "   0.64735687]\n",
      " [ 0.09493026  1.00564972  0.16497228  0.29013035 -0.05488343 -0.3370606\n",
      "  -0.41332866  0.29463237 -0.22199334  0.25039204 -0.56446685 -0.37079354\n",
      "  -0.19309537]\n",
      " [ 0.21273976  0.16497228  1.00564972  0.44587209  0.28820583  0.12970824\n",
      "   0.11572743  0.1872826   0.00970647  0.2603499  -0.07508874  0.00393333\n",
      "   0.22488969]\n",
      " [-0.31198788  0.29013035  0.44587209  1.00564972 -0.0838039  -0.32292752\n",
      "  -0.353355    0.36396647 -0.19844168  0.01883781 -0.27550299 -0.27833221\n",
      "  -0.44308618]\n",
      " [ 0.27232816 -0.05488343  0.28820583 -0.0838039   1.00564972  0.21561254\n",
      "   0.19688989 -0.25774204  0.23777643  0.20107967  0.05571118  0.06637684\n",
      "   0.39557317]\n",
      " [ 0.29073446 -0.3370606   0.12970824 -0.32292752  0.21561254  1.00564972\n",
      "   0.86944804 -0.45247731  0.61587304 -0.05544792  0.43613151  0.70390388\n",
      "   0.50092909]\n",
      " [ 0.23815287 -0.41332866  0.11572743 -0.353355    0.19688989  0.86944804\n",
      "   1.00564972 -0.54093859  0.65637929 -0.17335329  0.54654907  0.79164133\n",
      "   0.49698518]\n",
      " [-0.15681042  0.29463237  0.1872826   0.36396647 -0.25774204 -0.45247731\n",
      "  -0.54093859  1.00564972 -0.36791202  0.13984265 -0.26412347 -0.50611293\n",
      "  -0.31314443]\n",
      " [ 0.13747022 -0.22199334  0.00970647 -0.19844168  0.23777643  0.61587304\n",
      "   0.65637929 -0.36791202  1.00564972 -0.02539259  0.29721399  0.52199968\n",
      "   0.33228346]\n",
      " [ 0.549451    0.25039204  0.2603499   0.01883781  0.20107967 -0.05544792\n",
      "  -0.17335329  0.13984265 -0.02539259  1.00564972 -0.52476129 -0.43123763\n",
      "   0.31788599]\n",
      " [-0.07215255 -0.56446685 -0.07508874 -0.27550299  0.05571118  0.43613151\n",
      "   0.54654907 -0.26412347  0.29721399 -0.52476129  1.00564972  0.56866303\n",
      "   0.23751782]\n",
      " [ 0.07275191 -0.37079354  0.00393333 -0.27833221  0.06637684  0.70390388\n",
      "   0.79164133 -0.50611293  0.52199968 -0.43123763  0.56866303  1.00564972\n",
      "   0.31452809]\n",
      " [ 0.64735687 -0.19309537  0.22488969 -0.44308618  0.39557317  0.50092909\n",
      "   0.49698518 -0.31314443  0.33228346  0.31788599  0.23751782  0.31452809\n",
      "   1.00564972]]\n",
      "\n",
      " Manual covariance matrix :\n",
      " %s [[ 1.00564972  0.09493026  0.21273976 -0.31198788  0.27232816  0.29073446\n",
      "   0.23815287 -0.15681042  0.13747022  0.549451   -0.07215255  0.07275191\n",
      "   0.64735687]\n",
      " [ 0.09493026  1.00564972  0.16497228  0.29013035 -0.05488343 -0.3370606\n",
      "  -0.41332866  0.29463237 -0.22199334  0.25039204 -0.56446685 -0.37079354\n",
      "  -0.19309537]\n",
      " [ 0.21273976  0.16497228  1.00564972  0.44587209  0.28820583  0.12970824\n",
      "   0.11572743  0.1872826   0.00970647  0.2603499  -0.07508874  0.00393333\n",
      "   0.22488969]\n",
      " [-0.31198788  0.29013035  0.44587209  1.00564972 -0.0838039  -0.32292752\n",
      "  -0.353355    0.36396647 -0.19844168  0.01883781 -0.27550299 -0.27833221\n",
      "  -0.44308618]\n",
      " [ 0.27232816 -0.05488343  0.28820583 -0.0838039   1.00564972  0.21561254\n",
      "   0.19688989 -0.25774204  0.23777643  0.20107967  0.05571118  0.06637684\n",
      "   0.39557317]\n",
      " [ 0.29073446 -0.3370606   0.12970824 -0.32292752  0.21561254  1.00564972\n",
      "   0.86944804 -0.45247731  0.61587304 -0.05544792  0.43613151  0.70390388\n",
      "   0.50092909]\n",
      " [ 0.23815287 -0.41332866  0.11572743 -0.353355    0.19688989  0.86944804\n",
      "   1.00564972 -0.54093859  0.65637929 -0.17335329  0.54654907  0.79164133\n",
      "   0.49698518]\n",
      " [-0.15681042  0.29463237  0.1872826   0.36396647 -0.25774204 -0.45247731\n",
      "  -0.54093859  1.00564972 -0.36791202  0.13984265 -0.26412347 -0.50611293\n",
      "  -0.31314443]\n",
      " [ 0.13747022 -0.22199334  0.00970647 -0.19844168  0.23777643  0.61587304\n",
      "   0.65637929 -0.36791202  1.00564972 -0.02539259  0.29721399  0.52199968\n",
      "   0.33228346]\n",
      " [ 0.549451    0.25039204  0.2603499   0.01883781  0.20107967 -0.05544792\n",
      "  -0.17335329  0.13984265 -0.02539259  1.00564972 -0.52476129 -0.43123763\n",
      "   0.31788599]\n",
      " [-0.07215255 -0.56446685 -0.07508874 -0.27550299  0.05571118  0.43613151\n",
      "   0.54654907 -0.26412347  0.29721399 -0.52476129  1.00564972  0.56866303\n",
      "   0.23751782]\n",
      " [ 0.07275191 -0.37079354  0.00393333 -0.27833221  0.06637684  0.70390388\n",
      "   0.79164133 -0.50611293  0.52199968 -0.43123763  0.56866303  1.00564972\n",
      "   0.31452809]\n",
      " [ 0.64735687 -0.19309537  0.22488969 -0.44308618  0.39557317  0.50092909\n",
      "   0.49698518 -0.31314443  0.33228346  0.31788599  0.23751782  0.31452809\n",
      "   1.00564972]]\n"
     ]
    }
   ],
   "source": [
    "print \"Numpy covariance matrix :\\n %s\", numpy_covariance_matrix\n",
    "print \"\\n Manual covariance matrix :\\n %s\", covariance_matrix"
   ]
  },
  {
   "cell_type": "markdown",
   "metadata": {},
   "source": [
    "# # Find eigen vector and values now"
   ]
  },
  {
   "cell_type": "code",
   "execution_count": 9,
   "metadata": {
    "collapsed": false
   },
   "outputs": [
    {
     "name": "stdout",
     "output_type": "stream",
     "text": [
      "Eigenvectors \n",
      "[[-0.1443294  -0.48365155  0.20738262 -0.0178563   0.26566365 -0.21353865\n",
      "  -0.05639636  0.01496997 -0.39613926  0.26628645  0.50861912 -0.22591696\n",
      "   0.21160473]\n",
      " [ 0.24518758 -0.22493093 -0.08901289  0.53689028 -0.03521363 -0.53681385\n",
      "   0.42052391  0.02596375 -0.06582674 -0.12169604 -0.07528304  0.07648554\n",
      "  -0.30907994]\n",
      " [ 0.00205106 -0.31606881 -0.6262239  -0.21417556  0.14302547 -0.15447466\n",
      "  -0.14917061 -0.14121803  0.17026002  0.04962237 -0.30769445 -0.49869142\n",
      "  -0.02712539]\n",
      " [ 0.23932041  0.0105905  -0.61208035  0.06085941 -0.06610294  0.10082451\n",
      "  -0.28696914  0.09168285 -0.42797018  0.05574287  0.20044931  0.47931378\n",
      "   0.05279942]\n",
      " [-0.14199204 -0.299634   -0.13075693 -0.35179658 -0.72704851 -0.03814394\n",
      "   0.3228833   0.05677422  0.15636143 -0.06222011  0.27140257  0.07128891\n",
      "   0.06787022]\n",
      " [-0.39466085 -0.06503951 -0.14617896  0.19806835  0.14931841  0.0841223\n",
      "  -0.02792498 -0.46390791  0.40593409  0.30388245  0.28603452  0.30434119\n",
      "  -0.32013135]\n",
      " [-0.4229343   0.00335981 -0.1506819   0.15229479  0.10902584  0.01892002\n",
      "  -0.06068521  0.83225706  0.18724536  0.04289883  0.04957849 -0.02569409\n",
      "  -0.16315051]\n",
      " [ 0.2985331  -0.02877949 -0.17036816 -0.20330102  0.50070298  0.25859401\n",
      "   0.59544729  0.11403985  0.23328465 -0.04235219  0.19550132  0.11689586\n",
      "   0.21553507]\n",
      " [-0.31342949 -0.03930172 -0.14945431  0.39905653 -0.13685982  0.53379539\n",
      "   0.37213935 -0.11691707 -0.36822675  0.09555303 -0.20914487 -0.23736257\n",
      "   0.1341839 ]\n",
      " [ 0.0886167  -0.52999567  0.13730621  0.06592568  0.07643678  0.41864414\n",
      "  -0.22771214 -0.0119928   0.03379692 -0.60422163  0.05621752  0.0318388\n",
      "  -0.29077518]\n",
      " [-0.29671456  0.27923515 -0.08522192 -0.42777141  0.17361452 -0.10598274\n",
      "   0.23207564 -0.08988884 -0.43662362 -0.259214    0.08582839 -0.04821201\n",
      "  -0.52239889]\n",
      " [-0.37616741  0.16449619 -0.16600459  0.18412074  0.10116099 -0.26585107\n",
      "  -0.0447637  -0.15671813  0.07810789 -0.60095872  0.1372269   0.0464233\n",
      "   0.52370587]\n",
      " [-0.28675223 -0.36490283  0.12674592 -0.23207086  0.1578688  -0.11972557\n",
      "   0.0768045   0.01444734 -0.12002267  0.07940162 -0.57578611  0.53926983\n",
      "   0.162116  ]]\n",
      "\n",
      "Eigenvalues \n",
      "[ 4.73243698  2.51108093  1.45424187  0.92416587  0.85804868  0.64528221\n",
      "  0.55414147  0.10396199  0.35046627  0.16972374  0.29051203  0.22706428\n",
      "  0.25232001]\n"
     ]
    }
   ],
   "source": [
    "eigen_values, eigen_vector = np.linalg.eig(covariance_matrix)\n",
    "print('Eigenvectors \\n%s' %eigen_vector)\n",
    "print('\\nEigenvalues \\n%s' %eigen_values)"
   ]
  },
  {
   "cell_type": "code",
   "execution_count": 10,
   "metadata": {
    "collapsed": true
   },
   "outputs": [],
   "source": [
    "#Applying SVD"
   ]
  },
  {
   "cell_type": "code",
   "execution_count": 11,
   "metadata": {
    "collapsed": true
   },
   "outputs": [],
   "source": [
    "u,s,v = np.linalg.svd(X_std.T)"
   ]
  },
  {
   "cell_type": "code",
   "execution_count": 12,
   "metadata": {
    "collapsed": false
   },
   "outputs": [
    {
     "name": "stdout",
     "output_type": "stream",
     "text": [
      "Everything ok!\n"
     ]
    }
   ],
   "source": [
    "for ev in eigen_vector:\n",
    "    np.testing.assert_array_almost_equal(1.0, np.linalg.norm(ev))\n",
    "print('Everything ok!')"
   ]
  },
  {
   "cell_type": "code",
   "execution_count": 13,
   "metadata": {
    "collapsed": false
   },
   "outputs": [],
   "source": [
    "eigen_pairs = [(np.abs(eigen_values[i]), eigen_vector[:,i]) for i in range(len(eigen_vector))]\n",
    "eigen_pairs.sort(key=lambda x: -x[0])"
   ]
  },
  {
   "cell_type": "code",
   "execution_count": 14,
   "metadata": {
    "collapsed": false
   },
   "outputs": [
    {
     "data": {
      "text/plain": [
       "[(4.7324369775835917,\n",
       "  array([-0.1443294 ,  0.24518758,  0.00205106,  0.23932041, -0.14199204,\n",
       "         -0.39466085, -0.4229343 ,  0.2985331 , -0.31342949,  0.0886167 ,\n",
       "         -0.29671456, -0.37616741, -0.28675223])),\n",
       " (2.5110809296451242,\n",
       "  array([-0.48365155, -0.22493093, -0.31606881,  0.0105905 , -0.299634  ,\n",
       "         -0.06503951,  0.00335981, -0.02877949, -0.03930172, -0.52999567,\n",
       "          0.27923515,  0.16449619, -0.36490283])),\n",
       " (1.4542418678464655,\n",
       "  array([ 0.20738262, -0.08901289, -0.6262239 , -0.61208035, -0.13075693,\n",
       "         -0.14617896, -0.1506819 , -0.17036816, -0.14945431,  0.13730621,\n",
       "         -0.08522192, -0.16600459,  0.12674592])),\n",
       " (0.92416586682487456,\n",
       "  array([-0.0178563 ,  0.53689028, -0.21417556,  0.06085941, -0.35179658,\n",
       "          0.19806835,  0.15229479, -0.20330102,  0.39905653,  0.06592568,\n",
       "         -0.42777141,  0.18412074, -0.23207086])),\n",
       " (0.85804867653711114,\n",
       "  array([ 0.26566365, -0.03521363,  0.14302547, -0.06610294, -0.72704851,\n",
       "          0.14931841,  0.10902584,  0.50070298, -0.13685982,  0.07643678,\n",
       "          0.17361452,  0.10116099,  0.1578688 ])),\n",
       " (0.645282212467854,\n",
       "  array([-0.21353865, -0.53681385, -0.15447466,  0.10082451, -0.03814394,\n",
       "          0.0841223 ,  0.01892002,  0.25859401,  0.53379539,  0.41864414,\n",
       "         -0.10598274, -0.26585107, -0.11972557])),\n",
       " (0.55414146624578342,\n",
       "  array([-0.05639636,  0.42052391, -0.14917061, -0.28696914,  0.3228833 ,\n",
       "         -0.02792498, -0.06068521,  0.59544729,  0.37213935, -0.22771214,\n",
       "          0.23207564, -0.0447637 ,  0.0768045 ])),\n",
       " (0.3504662749462541,\n",
       "  array([-0.39613926, -0.06582674,  0.17026002, -0.42797018,  0.15636143,\n",
       "          0.40593409,  0.18724536,  0.23328465, -0.36822675,  0.03379692,\n",
       "         -0.43662362,  0.07810789, -0.12002267])),\n",
       " (0.29051203269397702,\n",
       "  array([ 0.50861912, -0.07528304, -0.30769445,  0.20044931,  0.27140257,\n",
       "          0.28603452,  0.04957849,  0.19550132, -0.20914487,  0.05621752,\n",
       "          0.08582839,  0.1372269 , -0.57578611])),\n",
       " (0.25232001036082513,\n",
       "  array([ 0.21160473, -0.30907994, -0.02712539,  0.05279942,  0.06787022,\n",
       "         -0.32013135, -0.16315051,  0.21553507,  0.1341839 , -0.29077518,\n",
       "         -0.52239889,  0.52370587,  0.162116  ])),\n",
       " (0.22706428173088508,\n",
       "  array([-0.22591696,  0.07648554, -0.49869142,  0.47931378,  0.07128891,\n",
       "          0.30434119, -0.02569409,  0.11689586, -0.23736257,  0.0318388 ,\n",
       "         -0.04821201,  0.0464233 ,  0.53926983])),\n",
       " (0.16972373898012139,\n",
       "  array([ 0.26628645, -0.12169604,  0.04962237,  0.05574287, -0.06222011,\n",
       "          0.30388245,  0.04289883, -0.04235219,  0.09555303, -0.60422163,\n",
       "         -0.259214  , -0.60095872,  0.07940162])),\n",
       " (0.10396199182075287,\n",
       "  array([ 0.01496997,  0.02596375, -0.14121803,  0.09168285,  0.05677422,\n",
       "         -0.46390791,  0.83225706,  0.11403985, -0.11691707, -0.0119928 ,\n",
       "         -0.08988884, -0.15671813,  0.01444734]))]"
      ]
     },
     "execution_count": 14,
     "metadata": {},
     "output_type": "execute_result"
    }
   ],
   "source": [
    "eigen_pairs"
   ]
  },
  {
   "cell_type": "code",
   "execution_count": 15,
   "metadata": {
    "collapsed": true
   },
   "outputs": [],
   "source": [
    "#To decide how many principal components we need we calculate the explained variance"
   ]
  },
  {
   "cell_type": "code",
   "execution_count": 16,
   "metadata": {
    "collapsed": true
   },
   "outputs": [],
   "source": [
    "eigen_total = sum(eigen_values)\n",
    "var_exp = [(i / eigen_total)*100 for i in sorted(eigen_values, reverse=True)]\n",
    "cum_var_exp = np.cumsum(var_exp)"
   ]
  },
  {
   "cell_type": "code",
   "execution_count": 17,
   "metadata": {
    "collapsed": false
   },
   "outputs": [
    {
     "data": {
      "image/png": "[encoded data removed]",
      "text/plain": [
       "<matplotlib.figure.Figure at 0x111d03b10>"
      ]
     },
     "metadata": {},
     "output_type": "display_data"
    }
   ],
   "source": [
    "with plt.style.context('seaborn-whitegrid'):\n",
    "    plt.figure(figsize=(6, 4))\n",
    "\n",
    "    plt.bar(range(len(eigen_values)), var_exp, alpha=0.5, align='center')\n",
    "    plt.step(range(len(eigen_values)), cum_var_exp, where='mid',\n",
    "             label='cumulative explained variance')\n",
    "    plt.ylabel('Explained variance ratio')\n",
    "    plt.xlabel('Principal components')\n",
    "    plt.legend(loc='best')\n",
    "    plt.tight_layout()\n",
    "    plt.show()"
   ]
  },
  {
   "cell_type": "code",
   "execution_count": 18,
   "metadata": {
    "collapsed": true
   },
   "outputs": [],
   "source": [
    "#Projection matrix construction"
   ]
  },
  {
   "cell_type": "code",
   "execution_count": 19,
   "metadata": {
    "collapsed": false
   },
   "outputs": [],
   "source": [
    "matrix_w = np.hstack((eigen_pairs[0][1].reshape(eigen_pairs[0][1].shape[0],1),\n",
    "                      eigen_pairs[1][1].reshape(eigen_pairs[0][1].shape[0],1),\n",
    "                      eigen_pairs[2][1].reshape(eigen_pairs[0][1].shape[0],1),\n",
    "                      eigen_pairs[3][1].reshape(eigen_pairs[0][1].shape[0],1),\n",
    "                     ))"
   ]
  },
  {
   "cell_type": "code",
   "execution_count": 20,
   "metadata": {
    "collapsed": false
   },
   "outputs": [
    {
     "data": {
      "text/plain": [
       "array([[-0.1443294 , -0.48365155,  0.20738262, -0.0178563 ],\n",
       "       [ 0.24518758, -0.22493093, -0.08901289,  0.53689028],\n",
       "       [ 0.00205106, -0.31606881, -0.6262239 , -0.21417556],\n",
       "       [ 0.23932041,  0.0105905 , -0.61208035,  0.06085941],\n",
       "       [-0.14199204, -0.299634  , -0.13075693, -0.35179658],\n",
       "       [-0.39466085, -0.06503951, -0.14617896,  0.19806835],\n",
       "       [-0.4229343 ,  0.00335981, -0.1506819 ,  0.15229479],\n",
       "       [ 0.2985331 , -0.02877949, -0.17036816, -0.20330102],\n",
       "       [-0.31342949, -0.03930172, -0.14945431,  0.39905653],\n",
       "       [ 0.0886167 , -0.52999567,  0.13730621,  0.06592568],\n",
       "       [-0.29671456,  0.27923515, -0.08522192, -0.42777141],\n",
       "       [-0.37616741,  0.16449619, -0.16600459,  0.18412074],\n",
       "       [-0.28675223, -0.36490283,  0.12674592, -0.23207086]])"
      ]
     },
     "execution_count": 20,
     "metadata": {},
     "output_type": "execute_result"
    }
   ],
   "source": [
    "matrix_w"
   ]
  },
  {
   "cell_type": "code",
   "execution_count": 22,
   "metadata": {
    "collapsed": false
   },
   "outputs": [
    {
     "name": "stdout",
     "output_type": "stream",
     "text": [
      "\n"
     ]
    }
   ],
   "source": [
    "Y = X_std.dot(matrix_w)"
   ]
  },
  {
   "cell_type": "code",
   "execution_count": 23,
   "metadata": {
    "collapsed": false
   },
   "outputs": [
    {
     "name": "stdout",
     "output_type": "stream",
     "text": [
      "Transformed Data \n",
      ", %s [[ -3.31675081e+00  -1.44346263e+00   1.65739045e-01  -2.15631188e-01]\n",
      " [ -2.20946492e+00   3.33392887e-01   2.02645737e+00  -2.91358318e-01]\n",
      " [ -2.51674015e+00  -1.03115130e+00  -9.82818670e-01   7.24902309e-01]\n",
      " [ -3.75706561e+00  -2.75637191e+00   1.76191842e-01   5.67983308e-01]\n",
      " [ -1.00890849e+00  -8.69830821e-01  -2.02668822e+00  -4.09765788e-01]\n",
      " [ -3.05025392e+00  -2.12240111e+00   6.29395827e-01  -5.15637495e-01]\n",
      " [ -2.44908967e+00  -1.17485013e+00   9.77094891e-01  -6.58305046e-02]\n",
      " [ -2.05943687e+00  -1.60896307e+00  -1.46281883e-01  -1.19260801e+00]\n",
      " [ -2.51087430e+00  -9.18070957e-01   1.77096903e+00   5.62703612e-02]\n",
      " [ -2.75362819e+00  -7.89437674e-01   9.84247490e-01   3.49381568e-01]\n",
      " [ -3.47973668e+00  -1.30233324e+00   4.22735217e-01   2.68417600e-02]\n",
      " [ -1.75475290e+00  -6.11977229e-01   1.19087832e+00  -8.90164338e-01]\n",
      " [ -2.11346234e+00  -6.75706339e-01   8.65086426e-01  -3.56438010e-01]\n",
      " [ -3.45815682e+00  -1.13062988e+00   1.20427635e+00   1.62458063e-01]\n",
      " [ -4.31278391e+00  -2.09597558e+00   1.26391275e+00   3.05773190e-01]\n",
      " [ -2.30518820e+00  -1.66255173e+00  -2.17902616e-01  -1.44059003e+00]\n",
      " [ -2.17195527e+00  -2.32730534e+00  -8.31729866e-01  -9.12601275e-01]\n",
      " [ -1.89897118e+00  -1.63136888e+00  -7.94913792e-01  -1.08238039e+00]\n",
      " [ -3.54198508e+00  -2.51834367e+00   4.85458508e-01  -9.10322807e-01]\n",
      " [ -2.08452220e+00  -1.06113799e+00   1.64746678e-01   4.84997419e-01]\n",
      " [ -3.12440254e+00  -7.86897106e-01   3.64887083e-01  -2.55616906e-02]\n",
      " [ -1.08657007e+00  -2.41743551e-01  -9.36961600e-01   1.02990984e+00]\n",
      " [ -2.53522408e+00   9.18406207e-02   3.11932659e-01  -4.83912355e-02]\n",
      " [ -1.64498834e+00   5.16278930e-01  -1.43885095e-01  -4.13720024e-01]\n",
      " [ -1.76157587e+00   3.17148933e-01  -8.90285647e-01  -1.15115611e-01]\n",
      " [ -9.90079102e-01  -9.40667338e-01  -3.82090801e+00  -1.32156120e+00]\n",
      " [ -1.77527763e+00  -6.86175134e-01   8.67004065e-02  -2.32906780e-01]\n",
      " [ -1.23542396e+00   8.98070414e-02   1.38689654e+00  -4.95682720e-01]\n",
      " [ -2.18840633e+00  -6.89569621e-01  -1.39456688e+00  -7.77491811e-01]\n",
      " [ -2.25610898e+00  -1.91461937e-01   1.09265726e+00   2.86152299e-01]\n",
      " [ -2.50022003e+00  -1.24083383e+00  -1.38601785e+00  -3.66865220e-01]\n",
      " [ -2.67741105e+00  -1.47187365e+00   3.32261728e-01  -3.49353875e-01]\n",
      " [ -1.62857912e+00  -5.27044506e-02   1.67128706e-01  -7.49314246e-01]\n",
      " [ -1.90269086e+00  -1.63306043e+00  -1.17208212e+00  -2.34042904e+00]\n",
      " [ -1.41038853e+00  -6.97934325e-01  -4.79743025e-01  -1.06008622e+00]\n",
      " [ -1.90382623e+00  -1.76710951e-01  -4.50835040e-01   2.84113552e-01]\n",
      " [ -1.38486223e+00  -6.58639854e-01  -4.58438581e-01  -1.28465815e+00]\n",
      " [ -1.12220741e+00  -1.14109760e-01   3.91072767e-02  -9.56401223e-01]\n",
      " [ -1.50219450e+00   7.69432006e-01   1.42617735e+00  -7.57508093e-01]\n",
      " [ -2.52980109e+00  -1.80300198e+00   3.43152389e-01   1.18697430e+00]\n",
      " [ -2.58809543e+00  -7.79616304e-01   1.18477466e-01   4.75971440e-01]\n",
      " [ -6.68481994e-01  -1.69960941e-01   7.83362548e-01   1.31308378e+00]\n",
      " [ -3.07080699e+00  -1.15591896e+00   3.12758084e-01   5.50284635e-01]\n",
      " [ -4.62209138e-01  -3.30742132e-01   2.01476496e-01   1.43649386e+00]\n",
      " [ -2.10135193e+00   7.10089210e-02   6.55849415e-01   7.57744839e-01]\n",
      " [ -1.13616618e+00  -1.77710739e+00  -2.87057358e-02   6.91831212e-01]\n",
      " [ -2.72660096e+00  -1.19133469e+00   5.39773261e-01   1.38955067e+00]\n",
      " [ -2.82133927e+00  -6.46258599e-01   1.15555241e+00   9.87662912e-01]\n",
      " [ -2.00985085e+00  -1.24702946e+00   5.72939879e-02   2.30643107e-01]\n",
      " [ -2.70749130e+00  -1.75196741e+00   6.43113612e-01  -1.00231520e-01]\n",
      " [ -3.21491747e+00  -1.66991995e-01   1.97357168e+00   1.12068394e+00]\n",
      " [ -2.85895983e+00  -7.45278804e-01  -4.71950216e-03  -2.15276557e-01]\n",
      " [ -3.50560436e+00  -1.61273386e+00   5.20774530e-01   1.06536424e-01]\n",
      " [ -2.22479138e+00  -1.87516800e+00  -3.39549850e-01  -1.20696658e+00]\n",
      " [ -2.14698782e+00  -1.01675154e+00   9.57762762e-01  -2.40318190e-01]\n",
      " [ -2.46932948e+00  -1.32900831e+00  -5.13437453e-01   2.55348621e-01]\n",
      " [ -2.74151791e+00  -1.43654878e+00   6.12473396e-01   2.05747441e-01]\n",
      " [ -2.17374092e+00  -1.21219984e+00  -2.61779593e-01  -5.04426086e-01]\n",
      " [ -3.13938015e+00  -1.73157912e+00   2.85661413e-01   2.30567212e-01]\n",
      " [  9.28581969e-01   3.07348616e+00   4.58506401e+00  -1.05184439e+00]\n",
      " [  1.54248014e+00   1.38144351e+00   8.74683112e-01  -2.89011975e+00]\n",
      " [  1.83624976e+00   8.29984123e-01   1.60570219e+00  -1.45210485e+00]\n",
      " [ -3.06068341e-02   1.26278614e+00   1.78440801e+00  -1.20657607e+00]\n",
      " [ -2.05026161e+00   1.92503260e+00   7.36877735e-03   7.21321903e-01]\n",
      " [  6.09680827e-01   1.90805881e+00  -6.79357938e-01  -2.15307609e+00]\n",
      " [ -9.00227839e-01   7.63911474e-01  -5.73361302e-01  -6.79361634e-01]\n",
      " [ -2.24850719e+00   1.88459248e+00   2.03184019e+00   1.40762723e+00]\n",
      " [ -1.83384027e-01   2.42714611e+00   1.06974556e+00   1.27417972e-01]\n",
      " [  8.12805027e-01   2.20513987e-01   7.07005396e-01  -2.48898958e+00]\n",
      " [ -1.97562050e+00   1.40328323e+00   1.23827622e+00  -1.15230649e+00]\n",
      " [  1.57221622e+00   8.84983137e-01   6.28997950e-01  -1.17184641e+00]\n",
      " [ -1.65768181e+00   9.56712197e-01  -1.95258422e+00   1.52208912e-01]\n",
      " [  7.25372388e-01   1.06364540e+00  -8.03322286e-02  -7.60194312e-02]\n",
      " [ -2.56222717e+00  -2.60198551e-01  -3.37439396e+00  -9.79399432e-01]\n",
      " [ -1.83256757e+00   1.28787820e+00  -4.58280027e-01   1.71350754e-01]\n",
      " [  8.67992903e-01   2.44410119e+00   1.56333318e+00  -8.31459859e-01]\n",
      " [ -3.70014404e-01   2.15390698e+00   2.44938635e+00  -1.26159044e-01]\n",
      " [  1.45737704e+00   1.38335177e+00   2.27306902e-01  -6.96356870e-01]\n",
      " [ -1.26293085e+00   7.70849530e-01   1.18422452e+00  -9.25882244e-01]\n",
      " [ -3.76150372e-01   1.02704340e+00  -1.79446629e+00   9.78544527e-01]\n",
      " [ -7.62063904e-01   3.37505381e+00   3.57470056e-01  -3.66732915e-01]\n",
      " [ -1.03457797e+00   1.45070974e+00   3.63011773e-01   2.96595780e-01]\n",
      " [  4.94876756e-01   2.38124353e+00  -1.33574318e+00  -1.04097884e+00]\n",
      " [  2.53897708e+00   8.74433573e-02  -4.74251393e-01   7.58601454e-01]\n",
      " [ -8.35320145e-01   1.47367055e+00  -6.10093576e-01   5.82951878e-01]\n",
      " [ -7.87904615e-01   2.02662652e+00   2.54723404e-01  -8.09418080e-01]\n",
      " [  8.06832156e-01   2.23383039e+00  -7.72855797e-01  -1.01371575e+00]\n",
      " [  5.58042625e-01   2.37298543e+00  -2.30761140e+00  -1.03532031e+00]\n",
      " [  1.11511104e+00   1.80224719e+00  -9.59253308e-01  -3.31283791e-01]\n",
      " [  5.55722830e-01   2.65754004e+00  -8.49126898e-01  -3.19764133e-03]\n",
      " [  1.34928528e+00   2.11800147e+00   4.76523208e-02  -4.66250567e-01]\n",
      " [  1.56448261e+00   1.85221452e+00  -7.81067031e-01  -6.05079391e-01]\n",
      " [  1.93255561e+00   1.55949546e+00   8.92746761e-02  -5.22569357e-01]\n",
      " [ -7.46665942e-01   2.31293171e+00  -1.14679769e-01   1.24853870e+00]\n",
      " [ -9.57455364e-01   2.22352843e+00  -1.42444774e-01   3.14042947e-01]\n",
      " [ -2.54386518e+00  -1.69274023e-01  -7.88696991e-01  -1.03283704e+00]\n",
      " [  5.43952589e-01   3.68926546e-01  -1.30889593e+00  -1.27799856e+00]\n",
      " [ -1.03104975e+00   2.56556935e+00   1.08639017e+00   2.63860985e-01]\n",
      " [ -2.25190942e+00   1.43274138e+00   2.30208244e-01   9.21171097e-01]\n",
      " [ -1.41021602e+00   2.16619177e+00  -7.48896411e-01   1.19561119e+00]\n",
      " [ -7.97719793e-01   2.37694880e+00   1.56811253e+00  -3.48163602e-02]\n",
      " [  5.49531727e-01   2.29312864e+00   1.49893532e+00  -3.07038671e-01]\n",
      " [  1.61173740e-01   1.16448332e+00  -1.00371310e+00   6.61686224e-01]\n",
      " [  6.59794942e-01   2.67996119e+00   7.64920868e-01   4.69954774e-01]\n",
      " [ -3.92354408e-01   2.09873171e+00   4.71850008e-01   4.37056575e-01]\n",
      " [  1.77249908e+00   1.71728847e+00  -9.47033174e-01   2.59512586e-01]\n",
      " [  3.66267357e-01   2.16935330e+00   4.81324235e-01   3.98400462e-01]\n",
      " [  1.62067257e+00   1.35558339e+00  -2.87159001e-01  -2.60245460e-02]\n",
      " [ -8.25357835e-02   2.30623459e+00   4.63574989e-01   8.90351023e-01]\n",
      " [ -1.57827507e+00   1.46203429e+00  -1.77964595e+00   6.13584424e-01]\n",
      " [ -1.42056925e+00   1.41820664e+00  -1.39275829e-01   3.43053946e+00]\n",
      " [  2.78702754e-01   1.93056809e+00  -7.86705530e-02   9.28520741e-01]\n",
      " [  1.30314497e+00   7.63172314e-01  -1.99959651e+00  -1.72583588e+00]\n",
      " [  4.57071866e-01   2.26941561e+00  -1.06133897e+00  -8.37432054e-01]\n",
      " [  4.94185847e-01   1.93904505e+00  -1.32393807e+00  -6.15972483e-02]\n",
      " [ -4.82074410e-01   3.87178385e+00  -1.34427122e+00  -8.99910492e-01]\n",
      " [  2.52888878e-01   2.82149237e+00   3.02639785e-01   4.57967101e-01]\n",
      " [  1.07227638e-01   1.92892204e+00  -6.90148243e-01  -2.73722484e-01]\n",
      " [  2.43301260e+00   1.25714104e+00   1.90302740e+00   8.69731905e-01]\n",
      " [  5.51089539e-01   2.22216155e+00   3.56228830e-01   1.36331989e+00]\n",
      " [ -7.39621929e-01   1.40895667e+00  -1.12534549e+00   1.20511147e+00]\n",
      " [ -1.33632173e+00  -2.53336931e-01  -5.34538818e+00   2.39037513e-01]\n",
      " [  1.17708700e+00   6.63966840e-01  -3.01022189e+00   1.16613696e+00]\n",
      " [  4.62335008e-01   6.18288179e-01  -4.83442366e-01   3.57672436e+00]\n",
      " [ -9.78474079e-01   1.44557050e+00  -1.48123697e+00   3.79033509e+00]\n",
      " [  9.68097263e-02   2.10999799e+00  -4.34826116e-01   1.05469528e+00]\n",
      " [ -3.84871459e-02   1.26676211e+00  -6.87577913e-01   1.27288418e+00]\n",
      " [  1.59715850e+00   1.20814357e+00  -3.36117556e+00  -2.19277553e-01]\n",
      " [  4.79564916e-01   1.93884066e+00  -1.29650752e+00   6.86976225e-01]\n",
      " [  1.79283347e+00   1.15028810e+00  -7.82800173e-01   1.47877897e+00]\n",
      " [  1.32710166e+00  -1.70389232e-01   1.18001336e+00  -1.50170981e+00]\n",
      " [  2.38450083e+00  -3.74582606e-01   7.23822595e-01  -3.08194983e-01]\n",
      " [  2.93694010e+00  -2.63861830e-01   1.67639816e-01  -4.08773422e-01]\n",
      " [  2.14681113e+00  -3.68254952e-01   4.53301301e-01   4.85275651e-02]\n",
      " [  2.36986949e+00   4.59634809e-01   1.10139979e+00  -8.56777335e-01]\n",
      " [  3.06384157e+00  -3.53412835e-01   1.09912410e+00  -7.40398132e-01]\n",
      " [  3.91575378e+00  -1.54582519e-01  -2.21827800e-01  -9.06832745e-03]\n",
      " [  3.93646339e+00  -6.59687233e-01  -1.71221542e+00   5.45483801e-01]\n",
      " [  3.09427612e+00  -3.48842759e-01   1.02683141e+00  -7.13492080e-02]\n",
      " [  2.37447163e+00  -2.91980352e-01  -1.24191433e+00  -7.48805540e-01]\n",
      " [  2.77881295e+00  -2.86804873e-01  -6.09670124e-01  -8.79346886e-01]\n",
      " [  2.28656128e+00  -3.72507845e-01   9.71643032e-01  -3.71437736e-01]\n",
      " [  2.98563349e+00  -4.89217908e-01  -9.46952932e-01  -1.03622559e+00]\n",
      " [  2.37519470e+00  -4.82333717e-01   2.52883994e-01   6.71149264e-01]\n",
      " [  2.20986553e+00  -1.16005250e+00   1.24512523e+00   3.18838188e-01]\n",
      " [  2.62562100e+00  -5.63160764e-01   8.55961082e-01   2.75684026e-01]\n",
      " [  4.28063878e+00  -6.49670964e-01   1.45819696e+00   1.12816430e+00]\n",
      " [  3.58264137e+00  -1.27270275e+00   1.10784038e-01   1.04990904e+00]\n",
      " [  2.80706372e+00  -1.57053379e+00   4.72527935e-01   6.27358450e-01]\n",
      " [  2.89965933e+00  -2.04105701e+00   4.95959810e-01   4.71155615e-01]\n",
      " [  2.32073698e+00  -2.35636608e+00  -4.37681744e-01  -5.22597755e-02]\n",
      " [  2.54983095e+00  -2.04528309e+00   3.12267999e-01   3.86971682e-01]\n",
      " [  1.81254128e+00  -1.52764595e+00  -1.36258978e+00  -1.89395906e-01]\n",
      " [  2.76014464e+00  -2.13893235e+00   9.64628688e-01   6.68386112e-01]\n",
      " [  2.73715050e+00  -4.09886271e-01   1.19040468e+00  -6.63045204e-01]\n",
      " [  3.60486887e+00  -1.80238422e+00   9.40368613e-02   1.26884047e+00]\n",
      " [  2.88982600e+00  -1.92521861e+00   7.82322556e-01   1.32472540e+00]\n",
      " [  3.39215608e+00  -1.31187639e+00  -1.60202597e+00  -4.82842144e-01]\n",
      " [  1.04818190e+00  -3.51508969e+00  -1.16003857e+00   9.35329394e-01]\n",
      " [  1.60991228e+00  -2.40663816e+00  -5.48559697e-01   7.54309684e-01]\n",
      " [  3.14313097e+00  -7.38161044e-01   9.09987239e-02   9.80647845e-01]\n",
      " [  2.24015690e+00  -1.17546529e+00   1.01376932e-01  -1.16527872e+00]\n",
      " [  2.84767378e+00  -5.56043966e-01  -8.04215218e-01  -8.97888066e-01]\n",
      " [  2.59749706e+00  -6.97965537e-01   8.84939521e-01  -2.74228748e-01]\n",
      " [  2.94929937e+00  -1.55530896e+00   9.83400727e-01   1.54803469e-02]\n",
      " [  3.53003227e+00  -8.82526796e-01   4.66029128e-01   5.80789625e-01]\n",
      " [  2.40611054e+00  -2.59235618e+00  -4.28226211e-01  -1.84335092e-01]\n",
      " [  2.92908473e+00  -1.27444695e+00   1.21335827e+00   2.95316047e-01]\n",
      " [  2.18141278e+00  -2.07753731e+00  -7.63782552e-01  -3.89593322e-01]\n",
      " [  2.38092779e+00  -2.58866743e+00  -1.41804403e+00   5.88501936e-01]\n",
      " [  3.21161722e+00   2.51249104e-01   8.47129152e-01  -2.17065355e-01]\n",
      " [  3.67791872e+00  -8.47747844e-01   1.33942023e+00  -1.25175865e-01]\n",
      " [  2.46555580e+00  -2.19379830e+00   9.18780960e-01   1.80249950e-02]\n",
      " [  3.37052415e+00  -2.21628914e+00   3.42569512e-01   1.05852684e+00]\n",
      " [  2.60195585e+00  -1.75722935e+00  -2.07581355e-01   3.49496422e-01]\n",
      " [  2.67783946e+00  -2.76089913e+00   9.40941877e-01   3.12034746e-01]\n",
      " [  2.38701709e+00  -2.29734668e+00   5.50696197e-01  -6.88284548e-01]\n",
      " [  3.20875816e+00  -2.76891957e+00  -1.01391366e+00   5.96903186e-01]]\n"
     ]
    }
   ],
   "source": [
    "print \"Transformed Data \\n, %s\", Y "
   ]
  },
  {
   "cell_type": "code",
   "execution_count": null,
   "metadata": {
    "collapsed": true
   },
   "outputs": [],
   "source": []
  }
 ],
 "metadata": {
  "kernelspec": {
   "display_name": "Python 2",
   "language": "python",
   "name": "python2"
  },
  "language_info": {
   "codemirror_mode": {
    "name": "ipython",
    "version": 2
   },
   "file_extension": ".py",
   "mimetype": "text/x-python",
   "name": "python",
   "nbconvert_exporter": "python",
   "pygments_lexer": "ipython2",
   "version": "2.7.10"
  }
 },
 "nbformat": 4,
 "nbformat_minor": 1
}
