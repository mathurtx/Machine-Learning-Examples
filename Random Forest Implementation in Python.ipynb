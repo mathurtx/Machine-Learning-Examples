{
 "cells": [
  {
   "cell_type": "markdown",
   "metadata": {},
   "source": [
    "Random Forest Implementation From Scratch\n",
    "Dataset : http://archive.ics.uci.edu/ml/datasets/Wine\n",
    "Practice Implementation from http://machinelearningmastery.com/implement-random-forest-scratch-python/"
   ]
  },
  {
   "cell_type": "code",
   "execution_count": 1,
   "metadata": {
    "collapsed": true
   },
   "outputs": [],
   "source": [
    "import pandas as pd\n",
    "import numpy as np\n",
    "wineDf = pd.read_csv(\n",
    "    filepath_or_buffer='http://archive.ics.uci.edu/ml/machine-learning-databases/wine/wine.data',\n",
    "    header=None,\n",
    "    sep=','\n",
    ")\n",
    "wineDf.columns = ['Label','Alcohol','Malic_acid','Ash','Alcalinity_of_ash','Magnesium','Total_phenols','Flavanoids','Nonflavanoid_phenols'\n",
    "                  ,'Proanthocyanins','Color_intensity','Hue','OD280/OD315','Proline']"
   ]
  },
  {
   "cell_type": "code",
   "execution_count": 57,
   "metadata": {
    "collapsed": true
   },
   "outputs": [],
   "source": [
    "def get_split_node(random_sample_data, num_features):\n",
    "    class_values = random_sample_data.ix[:,0]\n",
    "    b_index, b_value, b_score, b_groups = 999, 999, 999, None\n",
    "    features_selected = np.random.randint(0, random_sample_data.shape[1], num_features)\n",
    "    for index in features_selected:\n",
    "        for row in range(random_sample_data.shape[0]):\n",
    "            groups = test_split(index, random_sample_data[row:row+1].ix[:,index], random_sample_data)\n",
    "            gini = gini_index(groups, class_values)\n",
    "            if gini < b_score:\n",
    "                b_index, b_value, b_score, b_groups = index, row[index], gini, groups\n",
    "    return {'index':b_index, 'value':b_value, 'groups':b_groups}"
   ]
  },
  {
   "cell_type": "code",
   "execution_count": 3,
   "metadata": {
    "collapsed": true
   },
   "outputs": [],
   "source": [
    "def cross_validation_split(dataset, num_folds):\n",
    "    dataset_size = dataset.size\n",
    "    size_folds = dataset_size/num_folds\n",
    "    dataset_split = [dataset[(i*size_folds):((i+1)*size_folds)] for i in range(num_folds)]\n",
    "    return dataset_split\n",
    "    "
   ]
  },
  {
   "cell_type": "code",
   "execution_count": 4,
   "metadata": {
    "collapsed": false
   },
   "outputs": [],
   "source": [
    "def calculate_accuracy(actual, predicted):\n",
    "    correct_predictions = 0\n",
    "    for i in range(len(actual)):\n",
    "        if actual[i] == predicted[i]:\n",
    "            correct_prediction +=1\n",
    "    return correct_predictions/(float(len(actual))*100.0)"
   ]
  },
  {
   "cell_type": "code",
   "execution_count": 5,
   "metadata": {
    "collapsed": false
   },
   "outputs": [],
   "source": [
    "def evaluation(dataset, algorithm, num_folds, *args):\n",
    "    folds = cross_validation_split(dataset, num_folds)\n",
    "    scores = []\n",
    "    for fold in folds:\n",
    "        train_set = folds\n",
    "        train_set.remove(fold)\n",
    "        train_set = pd.concat(train_set)\n",
    "        test_set = fold.ix[:,1:-1]\n",
    "        predicted = algorithm(train_set, test_set, *args)\n",
    "        actual = fold.ix[:,0]\n",
    "        accuracy = calculate_accuracy(actual, predicted)\n",
    "        scores.append(accuracy)\n",
    "    return scores"
   ]
  },
  {
   "cell_type": "code",
   "execution_count": 6,
   "metadata": {
    "collapsed": false
   },
   "outputs": [],
   "source": [
    "def test_split(index, value, dataset):\n",
    "    left = dataset[dataset.ix[:, index] < value]\n",
    "    right = dataset[dataset.ix[:, index] >= value]\n",
    "    return left, right\n",
    "    "
   ]
  },
  {
   "cell_type": "code",
   "execution_count": 7,
   "metadata": {
    "collapsed": false
   },
   "outputs": [],
   "source": [
    "def gini_index(groups, class_values):\n",
    "    gini_value = 0.0\n",
    "    total_samples = left.size + right.size\n",
    "    for label in class_values:\n",
    "        left_label = left[left.ix[:,1] == label]\n",
    "        size_left_label = left_label.size\n",
    "        right_label = right[right.ix[:,1] == label]\n",
    "        size_right_label = right_label.size\n",
    "        temp_value = size_left_label/float(left.size)\n",
    "        label_value = (temp_value**2) + ((1 - temp_value)**2)\n",
    "        gini_value+= (left.size/float(total_size))*label_value\n",
    "    return gini_value"
   ]
  },
  {
   "cell_type": "code",
   "execution_count": 8,
   "metadata": {
    "collapsed": false
   },
   "outputs": [],
   "source": [
    "def to_terminal(group):\n",
    "    outcomes = [row.ix[:,1] for row in group]\n",
    "    return max(set(outcomes), key=outcomes.count)"
   ]
  },
  {
   "cell_type": "code",
   "execution_count": 9,
   "metadata": {
    "collapsed": true
   },
   "outputs": [],
   "source": [
    "def split(node, max_depth, min_size, num_features, depth):\n",
    "    left, right = node['groups']\n",
    "    del(node['groups'])\n",
    "    if not left or not right:\n",
    "        node['left'] = node['right'] = to_terminal(left + right)\n",
    "        return\n",
    "    if depth >= max_depth:\n",
    "        node['left'], node['right'] = to_terminal(left), to_terminal(right)\n",
    "        return\n",
    "    if len(left) <= min_size:\n",
    "        node['left'] = to_terminal(left)\n",
    "    else:\n",
    "        node['left'] = get_split(left, n_features)\n",
    "        ssplit(node['left'], max_depth, min_size, n_features, depth+1)\n",
    "    if len(right) <= min_size:\n",
    "        node['right'] = to_terminal(right)\n",
    "    else:\n",
    "        node['right'] = get_split(right, n_features)\n",
    "        split(node['right'], max_depth, min_size, n_features, depth+1)"
   ]
  },
  {
   "cell_type": "code",
   "execution_count": 10,
   "metadata": {
    "collapsed": true
   },
   "outputs": [],
   "source": [
    "def build_tree(dataset, max_depth, min_size, num_features):\n",
    "    root = get_split_node(dataset, num_features)\n",
    "    split(root, max_depth, min_size, num_features, 1)\n",
    "    return root"
   ]
  },
  {
   "cell_type": "code",
   "execution_count": 11,
   "metadata": {
    "collapsed": true
   },
   "outputs": [],
   "source": [
    "def predict(node, row):\n",
    "    if row[node['index'] < node['value']]:\n",
    "        if isinstance(node['left'], dict):\n",
    "            return predict(node['left'], row)\n",
    "        else:\n",
    "            return node['left']\n",
    "    else:\n",
    "        if isinstance(node['right'], dict):\n",
    "            return predict(node['right'], row)\n",
    "        else:\n",
    "            return node['right']"
   ]
  },
  {
   "cell_type": "code",
   "execution_count": 52,
   "metadata": {
    "collapsed": true
   },
   "outputs": [],
   "source": [
    "def create_sample(dataset, sample_size):\n",
    "    sample_set = []\n",
    "    random_values = np.random.randint(0, wineDf.shape[0], 20)\n",
    "    sample_set = []\n",
    "    for value in random_values:\n",
    "        sample_set.append(wineDf[value:value+1])\n",
    "    sample_df = pd.concat(sample_set)\n",
    "    return sample_df"
   ]
  },
  {
   "cell_type": "code",
   "execution_count": 13,
   "metadata": {
    "collapsed": true
   },
   "outputs": [],
   "source": [
    "def bagging_predictions(trees, row):\n",
    "    predictions = [predict(node, row) for node in trees]\n",
    "    return max(set(predictions), key=predictions.count)"
   ]
  },
  {
   "cell_type": "code",
   "execution_count": 14,
   "metadata": {
    "collapsed": true
   },
   "outputs": [],
   "source": [
    "def random_forest(train, test, max_depth, min_size, sample_size, num_trees, num_features):\n",
    "    trees = []\n",
    "    for i in range(num_trees):\n",
    "        sample = create_sample(train, sample_size)\n",
    "        tree = build_tree(sample, max_depth, min_size, num_features)\n",
    "        trees.append(tree)\n",
    "    predictions = [bagging_predictions(trees, row) for row in test]\n",
    "    return predictions"
   ]
  },
  {
   "cell_type": "code",
   "execution_count": 59,
   "metadata": {
    "collapsed": false
   },
   "outputs": [],
   "source": [
    "# evaluate algorithm\n",
    "n_folds = 5\n",
    "max_depth = 10\n",
    "min_size = 1\n",
    "sample_size = 1.0\n",
    "n_features = int(np.sqrt(wineDf.size)-1)\n",
    "for n_trees in [1, 5, 10]:\n",
    "\tscores = evaluation(wineDf, random_forest, n_folds, max_depth, min_size, sample_size, n_trees, n_features)\n",
    "\tprint('Trees: %d' % n_trees)\n",
    "\tprint('Scores: %s' % scores)\n",
    "\tprint('Mean Accuracy: %.3f%%' % (sum(scores)/float(len(scores))))"
   ]
  },
  {
   "cell_type": "code",
   "execution_count": null,
   "metadata": {
    "collapsed": true
   },
   "outputs": [],
   "source": []
  }
 ],
 "metadata": {
  "kernelspec": {
   "display_name": "Python 2",
   "language": "python",
   "name": "python2"
  },
  "language_info": {
   "codemirror_mode": {
    "name": "ipython",
    "version": 2
   },
   "file_extension": ".py",
   "mimetype": "text/x-python",
   "name": "python",
   "nbconvert_exporter": "python",
   "pygments_lexer": "ipython2",
   "version": "2.7.10"
  }
 },
 "nbformat": 4,
 "nbformat_minor": 1
}
