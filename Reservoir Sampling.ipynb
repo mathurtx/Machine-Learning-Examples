{
 "cells": [
  {
   "cell_type": "code",
   "execution_count": 25,
   "metadata": {
    "collapsed": true
   },
   "outputs": [],
   "source": [
    "import numpy as np"
   ]
  },
  {
   "cell_type": "code",
   "execution_count": 30,
   "metadata": {
    "collapsed": false
   },
   "outputs": [],
   "source": [
    "def reservoir_sampling(input, n):\n",
    "    sample = []\n",
    "    for i, line in enumerate(input):\n",
    "        if i < n:\n",
    "            sample.append(line)\n",
    "        elif i>=n and np.random.rand() < (n/float(i+1)):\n",
    "            replace = np.random.randint(len(sample)-1)\n",
    "            print \"Value being Replaced at index\", replace\n",
    "            sample[replace] = line\n",
    "    print sample\n",
    "        "
   ]
  },
  {
   "cell_type": "code",
   "execution_count": 31,
   "metadata": {
    "collapsed": false
   },
   "outputs": [
    {
     "name": "stdout",
     "output_type": "stream",
     "text": [
      "Value being Replaced at index 0\n",
      "Value being Replaced at index 0\n",
      "Value being Replaced at index 1\n",
      "Value being Replaced at index 0\n",
      "Value being Replaced at index 1\n",
      "Value being Replaced at index 1\n",
      "[6, 12, 3]\n"
     ]
    }
   ],
   "source": [
    "reservoir_sampling([1,2,3,4,5,5,3,5,6,8,9,100,12,23], 3)"
   ]
  },
  {
   "cell_type": "code",
   "execution_count": null,
   "metadata": {
    "collapsed": true
   },
   "outputs": [],
   "source": []
  }
 ],
 "metadata": {
  "kernelspec": {
   "display_name": "Python 2",
   "language": "python",
   "name": "python2"
  },
  "language_info": {
   "codemirror_mode": {
    "name": "ipython",
    "version": 2
   },
   "file_extension": ".py",
   "mimetype": "text/x-python",
   "name": "python",
   "nbconvert_exporter": "python",
   "pygments_lexer": "ipython2",
   "version": "2.7.10"
  }
 },
 "nbformat": 4,
 "nbformat_minor": 1
}
